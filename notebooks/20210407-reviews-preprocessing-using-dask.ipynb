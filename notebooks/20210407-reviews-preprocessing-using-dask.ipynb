{
 "cells": [
  {
   "cell_type": "code",
   "execution_count": 1,
   "id": "1edff4dd",
   "metadata": {},
   "outputs": [],
   "source": [
    "%load_ext autoreload\n",
    "%autoreload 2"
   ]
  },
  {
   "cell_type": "code",
   "execution_count": 2,
   "id": "0e3522c7",
   "metadata": {},
   "outputs": [],
   "source": [
    "from dask_jobqueue import SLURMCluster\n",
    "from dask.distributed import Client\n",
    "import numpy as np\n",
    "from time import sleep\n",
    "import os\n",
    "import pandas as pd\n",
    "from tqdm import tqdm\n",
    "import json\n",
    "from typing import Union, List, Dict"
   ]
  },
  {
   "cell_type": "code",
   "execution_count": 3,
   "id": "7c091e52",
   "metadata": {},
   "outputs": [
    {
     "name": "stderr",
     "output_type": "stream",
     "text": [
      "[nltk_data] Downloading package stopwords to\n",
      "[nltk_data]     /home/mittal.nit/nltk_data...\n",
      "[nltk_data]   Package stopwords is already up-to-date!\n"
     ]
    },
    {
     "data": {
      "text/plain": [
       "True"
      ]
     },
     "execution_count": 3,
     "metadata": {},
     "output_type": "execute_result"
    }
   ],
   "source": [
    "import nltk\n",
    "nltk.download('stopwords')"
   ]
  },
  {
   "cell_type": "code",
   "execution_count": 4,
   "id": "140dd4a3",
   "metadata": {},
   "outputs": [],
   "source": [
    "from nltk.corpus import stopwords "
   ]
  },
  {
   "cell_type": "code",
   "execution_count": 5,
   "id": "6595e622",
   "metadata": {},
   "outputs": [],
   "source": [
    "stop_words = set(stopwords.words('english')) "
   ]
  },
  {
   "cell_type": "code",
   "execution_count": 20,
   "id": "2b5e8601",
   "metadata": {},
   "outputs": [],
   "source": [
    "PROJECT_PATH = os.getcwd().replace(\"notebooks\", \"\")\n",
    "DATA_PATH = os.path.join(PROJECT_PATH, \"data\")\n",
    "PROCESSED_REVIEWS_PATH = os.path.join(DATA_PATH, \"processed_reviews\")\n",
    "\n",
    "try:\n",
    "    os.mkdir(PROCESSED_REVIEWS_PATH)\n",
    "except OSError as error:\n",
    "    print(error) "
   ]
  },
  {
   "cell_type": "code",
   "execution_count": 7,
   "id": "6c95caed",
   "metadata": {},
   "outputs": [
    {
     "data": {
      "text/plain": [
       "['yelp_academic_dataset_review.json',\n",
       " 'glove.6B.zip',\n",
       " 'glove.6B.200d.txt',\n",
       " 'glove.6B.50d.txt',\n",
       " 'word_expansion.json',\n",
       " 'glove.6B.300d.txt',\n",
       " 'test.out',\n",
       " '1.out',\n",
       " '2.out',\n",
       " 'glove.6B.100d.txt']"
      ]
     },
     "execution_count": 7,
     "metadata": {},
     "output_type": "execute_result"
    }
   ],
   "source": [
    "os.listdir(DATA_PATH)"
   ]
  },
  {
   "cell_type": "code",
   "execution_count": 8,
   "id": "ef5aea96",
   "metadata": {},
   "outputs": [
    {
     "name": "stderr",
     "output_type": "stream",
     "text": [
      "76it [00:00, 303877.12it/s]\n"
     ]
    }
   ],
   "source": [
    "# loading word expansions\n",
    "word_expansions = \"\"\n",
    "with open(os.path.join(DATA_PATH, \"word_expansion.json\")) as f:\n",
    "    for i, line in tqdm(enumerate(f)):\n",
    "        word_expansions += line\n",
    "        \n",
    "word_expansions = word_expansions.replace(\"\\n\",\"\")\n",
    "word_expansions = word_expansions.replace(\"\\t\",\"\")\n",
    "word_expansions = word_expansions.replace(\",}\",\"}\")\n",
    "word_expansions = word_expansions.replace(\",]\",\"]\")\n",
    "word_expansions = json.loads(word_expansions)"
   ]
  },
  {
   "cell_type": "code",
   "execution_count": 9,
   "id": "a9b8570d",
   "metadata": {},
   "outputs": [
    {
     "name": "stderr",
     "output_type": "stream",
     "text": [
      "101it [00:00, 185474.91it/s]\n"
     ]
    }
   ],
   "source": [
    "data = []\n",
    "max_reviews = 100\n",
    "with open(os.path.join(DATA_PATH, \"yelp_academic_dataset_review.json\")) as f:\n",
    "    for i, line in tqdm(enumerate(f)):\n",
    "        data.append(line)\n",
    "        if i > max_reviews:\n",
    "            break\n",
    "temp = [json.loads(data[i].replace(\"\\n\",\"\"))[\"text\"] for i in range(len(data))]"
   ]
  },
  {
   "cell_type": "code",
   "execution_count": 10,
   "id": "2bd5aae5",
   "metadata": {},
   "outputs": [],
   "source": [
    "glove_100d_path = os.path.join(DATA_PATH, \"glove.6B.100d.txt\")"
   ]
  },
  {
   "cell_type": "code",
   "execution_count": 11,
   "id": "9a46bdf6",
   "metadata": {},
   "outputs": [
    {
     "data": {
      "text/html": [
       "<div style='background-color: #f2f2f2; display: inline-block; padding: 10px; border: 1px solid #999999;'>\n",
       "  <h3>SLURMCluster</h3>\n",
       "  <ul>\n",
       "    <li><b>Dashboard: </b><a href='http://10.99.101.32:8787/status' target='_blank'>http://10.99.101.32:8787/status</a>\n",
       "  </ul>\n",
       "</div>\n"
      ],
      "text/plain": [
       "SLURMCluster(677fcd9d, 'tcp://10.99.101.32:46106', workers=0, threads=0, memory=0 B)"
      ]
     },
     "metadata": {},
     "output_type": "display_data"
    }
   ],
   "source": [
    "cluster = SLURMCluster(\n",
    "    n_workers=45,\n",
    "    cores=45, \n",
    "    memory=\"100GB\")\n",
    "cluster"
   ]
  },
  {
   "cell_type": "code",
   "execution_count": 12,
   "id": "c4b9dcd9",
   "metadata": {},
   "outputs": [],
   "source": [
    "client = Client(cluster)"
   ]
  },
  {
   "cell_type": "code",
   "execution_count": 13,
   "id": "e2240ca4",
   "metadata": {},
   "outputs": [],
   "source": [
    "def process_review(\n",
    "    reviews: str, \n",
    "    save_path: str,\n",
    "    embedding_matrix: Dict[str, np.ndarray]=None,\n",
    "    embedding_matrix_path: str=None) -> bool:\n",
    "    \n",
    "    \"\"\"\n",
    "    Parameters\n",
    "    ----------\n",
    "    reviews: str\n",
    "    \n",
    "    embedding_matrix: Dictionary of embeddings\n",
    "    \n",
    "    embedding_matrix_path: str\n",
    "    \n",
    "    Returns\n",
    "    -------\n",
    "    embeddings\n",
    "    \"\"\"\n",
    "    reviews = [json.loads(reviews[i].replace(\"\\n\",\"\")) for i in range(len(reviews))]\n",
    "    \n",
    "    if embedding_matrix is None:\n",
    "        embedding_matrix = {}\n",
    "        with open(embedding_matrix_path) as f:\n",
    "            for line in f:\n",
    "                word, embedding = line.split(maxsplit=1)\n",
    "                embedding = np.fromstring(embedding, dtype=float, sep=\" \")\n",
    "                embedding_matrix[word] = embedding \n",
    "\n",
    "    unknown_word_embedding = np.zeros(len(next(iter(embedding_matrix.values()))))\n",
    "    \n",
    "    reviews_embedding = []\n",
    "        \n",
    "    for review in reviews:\n",
    "        review_embedding = []\n",
    "        \n",
    "        for word in review[\"text\"].split():\n",
    "            review_embedding.append(\n",
    "                embedding_matrix[word] if word in embedding_matrix else unknown_word_embedding)\n",
    "        \n",
    "        # mean embedding for a review\n",
    "        review_embedding = np.mean(np.array(review_embedding), axis=0)        \n",
    "        reviews_embedding.append(\n",
    "            dict(review_id= review[\"review_id\"], stars=review[\"stars\"], embedding=review_embedding.tolist()))\n",
    "    \n",
    "    try:\n",
    "        with open(save_path, \"w\") as f:\n",
    "            json.dump(reviews_embedding , f)\n",
    "        return True\n",
    "    except:\n",
    "        return False"
   ]
  },
  {
   "cell_type": "markdown",
   "id": "7060ab23",
   "metadata": {},
   "source": [
    "# Sequential"
   ]
  },
  {
   "cell_type": "code",
   "execution_count": 14,
   "id": "46ebc3d0",
   "metadata": {},
   "outputs": [
    {
     "name": "stderr",
     "output_type": "stream",
     "text": [
      "                  "
     ]
    },
    {
     "name": "stdout",
     "output_type": "stream",
     "text": [
      "CPU times: user 5.76 s, sys: 437 ms, total: 6.19 s\n",
      "Wall time: 6.06 s\n"
     ]
    },
    {
     "name": "stderr",
     "output_type": "stream",
     "text": [
      "\r"
     ]
    }
   ],
   "source": [
    "%%time\n",
    "current_batch_no = 1\n",
    "batch_size = 10\n",
    "total_size = 20\n",
    "\n",
    "glove_100d_path = os.path.join(DATA_PATH, \"glove.6B.100d.txt\")\n",
    "embedding_matrix = {}\n",
    "with open(glove_100d_path) as f:\n",
    "    for line in f:\n",
    "        word, embedding = line.split(maxsplit=1)\n",
    "        embedding = np.fromstring(embedding, dtype=float, sep=\" \")\n",
    "        embedding_matrix[word] = embedding \n",
    "\n",
    "result_futures = {}\n",
    "with open(os.path.join(DATA_PATH, \"yelp_academic_dataset_review.json\")) as f:\n",
    "    reviews = []\n",
    "    for i, line in tqdm(enumerate(f), leave=False):\n",
    "        \n",
    "        if i >= total_size:\n",
    "            break\n",
    "        \n",
    "        if len(reviews) == batch_size:\n",
    "            result_futures[current_batch_no] = process_review(\n",
    "                reviews=reviews, \n",
    "                save_path=os.path.join(PROCESSED_REVIEWS_PATH, f\"{current_batch_no}.out\"),\n",
    "                embedding_matrix=embedding_matrix)\n",
    "            current_batch_no += 1\n",
    "            reviews = []\n",
    "            reviews.append(line)\n",
    "        else:\n",
    "            reviews.append(line)\n",
    "            \n",
    "if len(reviews) > 0:  \n",
    "    result_futures[current_batch_no] = process_review(\n",
    "        reviews=reviews, \n",
    "        save_path=os.path.join(PROCESSED_REVIEWS_PATH, f\"{current_batch_no}.out\"),\n",
    "        embedding_matrix=embedding_matrix)"
   ]
  },
  {
   "cell_type": "markdown",
   "id": "7a7a7197",
   "metadata": {},
   "source": [
    "# On HPC"
   ]
  },
  {
   "cell_type": "code",
   "execution_count": null,
   "id": "5538a499",
   "metadata": {},
   "outputs": [],
   "source": [
    "%%time\n",
    "[broadcasted_embedding_matrix] = client.scatter([embedding_matrix], broadcast=True)"
   ]
  },
  {
   "cell_type": "code",
   "execution_count": 19,
   "id": "b97a9372",
   "metadata": {},
   "outputs": [
    {
     "name": "stderr",
     "output_type": "stream",
     "text": [
      "                            \r"
     ]
    },
    {
     "name": "stdout",
     "output_type": "stream",
     "text": [
      "CPU times: user 413 ms, sys: 42.6 ms, total: 455 ms\n",
      "Wall time: 700 ms\n"
     ]
    }
   ],
   "source": [
    "%%time\n",
    "current_batch_no = 1\n",
    "result_futures = {}\n",
    "with open(os.path.join(DATA_PATH, \"yelp_academic_dataset_review.json\")) as f:\n",
    "    \n",
    "    reviews = []\n",
    "    for i, line in tqdm(enumerate(f), leave=False):\n",
    "        \n",
    "        if i >= total_size:\n",
    "            break\n",
    "            \n",
    "        if len(reviews) == batch_size:\n",
    "            \n",
    "            result_futures[current_batch_no] = client.submit(\n",
    "                process_review, \n",
    "                reviews=reviews,\n",
    "                save_path=os.path.join(PROCESSED_REVIEWS_PATH, f\"{current_batch_no}.out\"),\n",
    "                embedding_matrix=broadcasted_embedding_matrix)\n",
    "            reviews = []\n",
    "            current_batch_no += 1\n",
    "            reviews.append(line)\n",
    "        else:\n",
    "            reviews.append(line)\n",
    "            \n",
    "if len(reviews) > 0:  \n",
    "     result_futures[current_batch_no] = client.submit(\n",
    "                process_review, \n",
    "                reviews=reviews,\n",
    "                save_path=os.path.join(PROCESSED_REVIEWS_PATH, f\"{current_batch_no}.out\"),\n",
    "                embedding_matrix=broadcasted_embedding_matrix)\n",
    "    \n",
    "results = client.gather(result_futures)"
   ]
  },
  {
   "cell_type": "code",
   "execution_count": null,
   "id": "c52cc9cc",
   "metadata": {},
   "outputs": [
    {
     "name": "stderr",
     "output_type": "stream",
     "text": [
      "7495001it [02:57, 44664.48it/s]"
     ]
    }
   ],
   "source": [
    "%%time\n",
    "current_batch_no = 1\n",
    "batch_size = 1000\n",
    "total_size = 8635402\n",
    "result_futures = {}\n",
    "with open(os.path.join(DATA_PATH, \"yelp_academic_dataset_review.json\")) as f:\n",
    "    \n",
    "    reviews = []\n",
    "    for i, line in tqdm(enumerate(f), leave=False):\n",
    "        \n",
    "        if i >= total_size:\n",
    "            break\n",
    "            \n",
    "        if len(reviews) == batch_size:\n",
    "            \n",
    "            result_futures[current_batch_no] = client.submit(\n",
    "                process_review, \n",
    "                reviews=reviews,\n",
    "                save_path=os.path.join(PROCESSED_REVIEWS_PATH, f\"{current_batch_no}.out\"),\n",
    "                embedding_matrix=broadcasted_embedding_matrix)\n",
    "            reviews = []\n",
    "            current_batch_no += 1\n",
    "            reviews.append(line)\n",
    "        else:\n",
    "            reviews.append(line)\n",
    "            \n",
    "if len(reviews) > 0:  \n",
    "     result_futures[current_batch_no] = client.submit(\n",
    "                process_review, \n",
    "                reviews=reviews,\n",
    "                save_path=os.path.join(PROCESSED_REVIEWS_PATH, f\"{current_batch_no}.out\"),\n",
    "                embedding_matrix=broadcasted_embedding_matrix)\n",
    "    \n",
    "results = client.gather(result_futures)"
   ]
  },
  {
   "cell_type": "code",
   "execution_count": 26,
   "id": "d31f6d87",
   "metadata": {},
   "outputs": [
    {
     "name": "stderr",
     "output_type": "stream",
     "text": [
      "                                 "
     ]
    },
    {
     "name": "stdout",
     "output_type": "stream",
     "text": [
      "8635402\n"
     ]
    },
    {
     "name": "stderr",
     "output_type": "stream",
     "text": [
      "\r"
     ]
    }
   ],
   "source": [
    "with open(os.path.join(DATA_PATH, \"yelp_academic_dataset_review.json\")) as f:\n",
    "    for i, line in tqdm(enumerate(f), leave=False):\n",
    "        i\n",
    "print(i)"
   ]
  },
  {
   "cell_type": "code",
   "execution_count": null,
   "id": "30df5e20",
   "metadata": {},
   "outputs": [],
   "source": [
    "# results_futures.keys()"
   ]
  },
  {
   "cell_type": "code",
   "execution_count": null,
   "id": "4cb2feaf",
   "metadata": {},
   "outputs": [],
   "source": [
    "# [len(result) for result in results_futures.values()]"
   ]
  },
  {
   "cell_type": "code",
   "execution_count": null,
   "id": "fd06a137",
   "metadata": {},
   "outputs": [],
   "source": [
    "# list(results_futures.values())[0].status"
   ]
  }
 ],
 "metadata": {
  "kernelspec": {
   "display_name": "yelp_reviews_preprocessing",
   "language": "python",
   "name": "yelp_reviews_preprocessing"
  },
  "language_info": {
   "codemirror_mode": {
    "name": "ipython",
    "version": 3
   },
   "file_extension": ".py",
   "mimetype": "text/x-python",
   "name": "python",
   "nbconvert_exporter": "python",
   "pygments_lexer": "ipython3",
   "version": "3.9.2"
  }
 },
 "nbformat": 4,
 "nbformat_minor": 5
}
