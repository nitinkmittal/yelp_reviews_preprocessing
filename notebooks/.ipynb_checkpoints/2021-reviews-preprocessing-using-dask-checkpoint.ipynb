{
 "cells": [
  {
   "cell_type": "code",
   "execution_count": 1,
   "id": "e46cb5e9",
   "metadata": {},
   "outputs": [],
   "source": [
    "%load_ext autoreload\n",
    "%autoreload 2"
   ]
  },
  {
   "cell_type": "code",
   "execution_count": 21,
   "id": "24d72cf1",
   "metadata": {},
   "outputs": [],
   "source": [
    "from dask_jobqueue import SLURMCluster\n",
    "from dask.distributed import Client\n",
    "import numpy as np\n",
    "from time import sleep\n",
    "import os\n",
    "import pandas as pd\n",
    "from tqdm import tqdm\n",
    "import json\n",
    "from typing import Union, List"
   ]
  },
  {
   "cell_type": "code",
   "execution_count": 3,
   "id": "a0038914",
   "metadata": {},
   "outputs": [
    {
     "name": "stderr",
     "output_type": "stream",
     "text": [
      "[nltk_data] Downloading package stopwords to\n",
      "[nltk_data]     /home/mittal.nit/nltk_data...\n",
      "[nltk_data]   Package stopwords is already up-to-date!\n"
     ]
    },
    {
     "data": {
      "text/plain": [
       "True"
      ]
     },
     "execution_count": 3,
     "metadata": {},
     "output_type": "execute_result"
    }
   ],
   "source": [
    "import nltk\n",
    "nltk.download('stopwords')"
   ]
  },
  {
   "cell_type": "code",
   "execution_count": 4,
   "id": "f1a66225",
   "metadata": {},
   "outputs": [],
   "source": [
    "from nltk.corpus import stopwords "
   ]
  },
  {
   "cell_type": "code",
   "execution_count": 5,
   "id": "e1ca8e3c",
   "metadata": {},
   "outputs": [],
   "source": [
    "stop_words = set(stopwords.words('english')) "
   ]
  },
  {
   "cell_type": "code",
   "execution_count": 6,
   "id": "ee12dcf0",
   "metadata": {},
   "outputs": [],
   "source": [
    "PROJECT_PATH = os.getcwd().replace(\"notebooks\", \"\")\n",
    "DATA_PATH = os.path.join(PROJECT_PATH, \"data\")"
   ]
  },
  {
   "cell_type": "code",
   "execution_count": 7,
   "id": "fbf97e78",
   "metadata": {},
   "outputs": [
    {
     "data": {
      "text/plain": [
       "['yelp_academic_dataset_review.json',\n",
       " 'glove.6B.zip',\n",
       " 'glove.6B.200d.txt',\n",
       " 'glove.6B.50d.txt',\n",
       " 'word_expansion.json',\n",
       " 'glove.6B.300d.txt',\n",
       " 'glove.6B.100d.txt']"
      ]
     },
     "execution_count": 7,
     "metadata": {},
     "output_type": "execute_result"
    }
   ],
   "source": [
    "os.listdir(DATA_PATH)"
   ]
  },
  {
   "cell_type": "code",
   "execution_count": 8,
   "id": "5e8bd307",
   "metadata": {},
   "outputs": [
    {
     "name": "stderr",
     "output_type": "stream",
     "text": [
      "76it [00:00, 158748.56it/s]\n"
     ]
    }
   ],
   "source": [
    "# loading word expansions\n",
    "word_expansions = \"\"\n",
    "with open(os.path.join(DATA_PATH, \"word_expansion.json\")) as f:\n",
    "    for i, line in tqdm(enumerate(f)):\n",
    "        word_expansions += line\n",
    "        \n",
    "word_expansions = word_expansions.replace(\"\\n\",\"\")\n",
    "word_expansions = word_expansions.replace(\"\\t\",\"\")\n",
    "word_expansions = word_expansions.replace(\",}\",\"}\")\n",
    "word_expansions = word_expansions.replace(\",]\",\"]\")\n",
    "word_expansions = json.loads(word_expansions)"
   ]
  },
  {
   "cell_type": "code",
   "execution_count": 9,
   "id": "0b162a09",
   "metadata": {},
   "outputs": [
    {
     "name": "stderr",
     "output_type": "stream",
     "text": [
      "101it [00:00, 378236.34it/s]\n"
     ]
    }
   ],
   "source": [
    "data = []\n",
    "max_reviews = 100\n",
    "with open(os.path.join(DATA_PATH, \"yelp_academic_dataset_review.json\")) as f:\n",
    "    for i, line in tqdm(enumerate(f)):\n",
    "        data.append(line)\n",
    "        if i > max_reviews:\n",
    "            break\n",
    "temp = [json.loads(data[i].replace(\"\\n\",\"\"))[\"text\"] for i in range(len(data))]"
   ]
  },
  {
   "cell_type": "code",
   "execution_count": 11,
   "id": "11b64c96",
   "metadata": {},
   "outputs": [
    {
     "name": "stdout",
     "output_type": "stream",
     "text": [
      "CPU times: user 4 µs, sys: 5 µs, total: 9 µs\n",
      "Wall time: 14.8 µs\n"
     ]
    }
   ],
   "source": [
    "glove_100d_path = os.path.join(DATA_PATH, \"glove.6B.100d.txt\")"
   ]
  },
  {
   "cell_type": "code",
   "execution_count": 12,
   "id": "9534e20b",
   "metadata": {},
   "outputs": [
    {
     "data": {
      "text/html": [
       "<div style='background-color: #f2f2f2; display: inline-block; padding: 10px; border: 1px solid #999999;'>\n",
       "  <h3>SLURMCluster</h3>\n",
       "  <ul>\n",
       "    <li><b>Dashboard: </b><a href='http://10.99.101.32:8787/status' target='_blank'>http://10.99.101.32:8787/status</a>\n",
       "  </ul>\n",
       "</div>\n"
      ],
      "text/plain": [
       "SLURMCluster(61117a9f, 'tcp://10.99.101.32:35503', workers=0, threads=0, memory=0 B)"
      ]
     },
     "metadata": {},
     "output_type": "display_data"
    }
   ],
   "source": [
    "cluster = SLURMCluster(\n",
    "    n_workers=10,\n",
    "    cores=50, \n",
    "    memory=\"100GB\")\n",
    "cluster"
   ]
  },
  {
   "cell_type": "code",
   "execution_count": 13,
   "id": "f54d8dbb",
   "metadata": {},
   "outputs": [],
   "source": [
    "client = Client(cluster)"
   ]
  },
  {
   "cell_type": "code",
   "execution_count": 14,
   "id": "6c95804c",
   "metadata": {},
   "outputs": [],
   "source": [
    "def process_review(\n",
    "    reviews: str, \n",
    "    embedding_matrix_path: str) -> List[List[np.ndarray]]:\n",
    "    \n",
    "    \"\"\"\n",
    "    Parameters\n",
    "    ----------\n",
    "    \n",
    "    reviews: str\n",
    "    \n",
    "    embedding_matrix_path: str\n",
    "    \n",
    "    Returns\n",
    "    -------\n",
    "    embeddings\n",
    "    \"\"\"\n",
    "    \n",
    "    reviews = [json.loads(reviews[i].replace(\"\\n\",\"\"))[\"text\"] for i in range(len(reviews))]\n",
    "    \n",
    "    embedding_matrix = {}\n",
    "    \n",
    "    with open(embedding_matrix_path) as f:\n",
    "        for line in f:\n",
    "            word, embedding = line.split(maxsplit=1)\n",
    "            coefs = np.fromstring(embedding, dtype=float, sep=\" \")\n",
    "            embedding_matrix[word] = embedding \n",
    "            \n",
    "    unknown_word_embedding = np.zeros(len(next(iter(embedding_matrix.values()))))\n",
    "    \n",
    "    reviews_embeddings = []\n",
    "    \n",
    "    for review in reviews:\n",
    "        review_embedding = []\n",
    "        for word in review.split():\n",
    "            review_embedding.append(embedding_matrix[word] if word in embedding_matrix else unknown_word_embedding)\n",
    "        reviews_embeddings.append(review_embedding)\n",
    "        \n",
    "    return reviews_embeddings"
   ]
  },
  {
   "cell_type": "markdown",
   "id": "bbafb33d",
   "metadata": {},
   "source": [
    "# Sequential"
   ]
  },
  {
   "cell_type": "code",
   "execution_count": 15,
   "id": "2ecd29e1",
   "metadata": {},
   "outputs": [
    {
     "name": "stderr",
     "output_type": "stream",
     "text": [
      "                      "
     ]
    },
    {
     "name": "stdout",
     "output_type": "stream",
     "text": [
      "CPU times: user 21.9 s, sys: 974 ms, total: 22.9 s\n",
      "Wall time: 22.6 s\n"
     ]
    },
    {
     "name": "stderr",
     "output_type": "stream",
     "text": [
      "\r"
     ]
    }
   ],
   "source": [
    "%%time\n",
    "current_batch_no = 1\n",
    "batch_size = 10\n",
    "total_size = 100\n",
    "results_futures = {}\n",
    "with open(os.path.join(DATA_PATH, \"yelp_academic_dataset_review.json\")) as f:\n",
    "    \n",
    "    reviews = []\n",
    "    for i, line in tqdm(enumerate(f), leave=False):\n",
    "        \n",
    "        if i >= total_size:\n",
    "            break\n",
    "            \n",
    "        if len(reviews) == batch_size:\n",
    "            current_batch_no += 1\n",
    "            results_futures[current_batch_no] = process_review(reviews=reviews, embedding_matrix_path=glove_100d_path)\n",
    "            reviews = []\n",
    "            reviews.append(line)\n",
    "        else:\n",
    "            reviews.append(line)\n",
    "            \n",
    "if len(reviews) > 0:  \n",
    "     results_futures[current_batch_no] = process_review(reviews=reviews, embedding_matrix_path=glove_100d_path)\n",
    "    \n",
    "results = client.gather(results_futures)"
   ]
  },
  {
   "cell_type": "markdown",
   "id": "4a7fcf3b",
   "metadata": {},
   "source": [
    "# On HPC"
   ]
  },
  {
   "cell_type": "code",
   "execution_count": 20,
   "id": "6618713a",
   "metadata": {},
   "outputs": [
    {
     "name": "stderr",
     "output_type": "stream",
     "text": [
      "                            \r"
     ]
    },
    {
     "name": "stdout",
     "output_type": "stream",
     "text": [
      "CPU times: user 21 s, sys: 3.28 s, total: 24.2 s\n",
      "Wall time: 32.7 s\n"
     ]
    }
   ],
   "source": [
    "%%time\n",
    "current_batch_no = 1\n",
    "batch_size = 1000\n",
    "total_size = 10000\n",
    "results_futures = {}\n",
    "with open(os.path.join(DATA_PATH, \"yelp_academic_dataset_review.json\")) as f:\n",
    "    \n",
    "    reviews = []\n",
    "    for i, line in tqdm(enumerate(f), leave=False):\n",
    "        \n",
    "        if i >= total_size:\n",
    "            break\n",
    "            \n",
    "        if len(reviews) == batch_size:\n",
    "            current_batch_no += 1\n",
    "            results_futures[current_batch_no] = client.submit(process_review, reviews=reviews, embedding_matrix_path=glove_100d_path)\n",
    "            reviews = []\n",
    "            reviews.append(line)\n",
    "        else:\n",
    "            reviews.append(line)\n",
    "            \n",
    "if len(reviews) > 0:  \n",
    "     results_futures[current_batch_no] = client.submit(process_review, reviews=reviews, embedding_matrix_path=glove_100d_path)\n",
    "    \n",
    "results = client.gather(results_futures)"
   ]
  },
  {
   "cell_type": "code",
   "execution_count": null,
   "id": "4483ffc8",
   "metadata": {},
   "outputs": [],
   "source": []
  },
  {
   "cell_type": "code",
   "execution_count": 17,
   "id": "1bf13f53",
   "metadata": {},
   "outputs": [],
   "source": [
    "# results_futures.keys()"
   ]
  },
  {
   "cell_type": "code",
   "execution_count": 18,
   "id": "ddd5934e",
   "metadata": {},
   "outputs": [],
   "source": [
    "# [len(result) for result in results_futures.values()]"
   ]
  },
  {
   "cell_type": "code",
   "execution_count": 19,
   "id": "9bdcc49b",
   "metadata": {},
   "outputs": [],
   "source": [
    "# list(results_futures.values())[0].status"
   ]
  }
 ],
 "metadata": {
  "kernelspec": {
   "display_name": "yelp_reviews_preprocessing",
   "language": "python",
   "name": "yelp_reviews_preprocessing"
  },
  "language_info": {
   "codemirror_mode": {
    "name": "ipython",
    "version": 3
   },
   "file_extension": ".py",
   "mimetype": "text/x-python",
   "name": "python",
   "nbconvert_exporter": "python",
   "pygments_lexer": "ipython3",
   "version": "3.9.2"
  }
 },
 "nbformat": 4,
 "nbformat_minor": 5
}
